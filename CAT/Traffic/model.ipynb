{
 "cells": [
  {
   "cell_type": "code",
   "execution_count": 1,
   "metadata": {},
   "outputs": [],
   "source": [
    "import pandas as pd\n",
    "import numpy as np\n",
    "import matplotlib.pyplot as plt\n",
    "import seaborn as sns\n",
    "import warnings\n",
    "warnings.filterwarnings('ignore')"
   ]
  },
  {
   "cell_type": "markdown",
   "metadata": {},
   "source": [
    "# Road Danger Classification: Project Plan\n",
    "\n",
    "## 1. Objective\n",
    "Classify roads as **\"Dangerous\"** or **\"Not Dangerous\"** based on traffic accident data. Roads will be labeled dangerous based on criteria such as the number of fatalities, victims, and accident causes."
   ]
  },
  {
   "cell_type": "markdown",
   "metadata": {},
   "source": [
    "## 2. Data Overview\n",
    "We are working with traffic accident data that contains the following columns:\n",
    "- **Date**: The date of the accident.\n",
    "- **Accident Spot**: The specific location of the accident.\n",
    "- **Area**: The general area where the accident occurred.\n",
    "- **County**: The county of the accident.\n",
    "- **Road/Highway**: The road or highway where the accident occurred.\n",
    "- **Brief Accident Details/Cause**: A brief description of the cause of the accident.\n",
    "- **Victims**: Number of people involved in the accident.\n",
    "- **Total people confirmed dead**: Number of fatalities from the accident.\n",
    "- **Time of the Accidents**: Time of the accident.\n",
    "- **Weather conditions**: Weather at the time of the accident (this data has sparse entries).\n"
   ]
  },
  {
   "cell_type": "code",
   "execution_count": 3,
   "metadata": {},
   "outputs": [
    {
     "data": {
      "text/plain": [
       "['Sheet1']"
      ]
     },
     "execution_count": 3,
     "metadata": {},
     "output_type": "execute_result"
    }
   ],
   "source": [
    "traffic_data = pd.ExcelFile('./data/TRAFFIC ACCIDENTS DATA.xlsx')\n",
    "traffic_data.sheet_names"
   ]
  },
  {
   "cell_type": "code",
   "execution_count": 25,
   "metadata": {},
   "outputs": [
    {
     "data": {
      "text/html": [
       "<div>\n",
       "<style scoped>\n",
       "    .dataframe tbody tr th:only-of-type {\n",
       "        vertical-align: middle;\n",
       "    }\n",
       "\n",
       "    .dataframe tbody tr th {\n",
       "        vertical-align: top;\n",
       "    }\n",
       "\n",
       "    .dataframe thead th {\n",
       "        text-align: right;\n",
       "    }\n",
       "</style>\n",
       "<table border=\"1\" class=\"dataframe\">\n",
       "  <thead>\n",
       "    <tr style=\"text-align: right;\">\n",
       "      <th></th>\n",
       "      <th>Date</th>\n",
       "      <th>Accident Spot</th>\n",
       "      <th>Area</th>\n",
       "      <th>County</th>\n",
       "      <th>Road/ Highway</th>\n",
       "      <th>Brief Accident Details/Cause</th>\n",
       "      <th>Victims</th>\n",
       "      <th>Total people confirmed dead</th>\n",
       "      <th>Time of the Accidents</th>\n",
       "      <th>Weather conditions</th>\n",
       "    </tr>\n",
       "  </thead>\n",
       "  <tbody>\n",
       "    <tr>\n",
       "      <th>0</th>\n",
       "      <td>2023-08-08</td>\n",
       "      <td>Sobea</td>\n",
       "      <td>Sobea</td>\n",
       "      <td>Nakuru</td>\n",
       "      <td>Nakuru-Eldoret Highway</td>\n",
       "      <td>Head on Collision</td>\n",
       "      <td>Passengers</td>\n",
       "      <td>4</td>\n",
       "      <td>4.30 pm</td>\n",
       "      <td>NaN</td>\n",
       "    </tr>\n",
       "    <tr>\n",
       "      <th>1</th>\n",
       "      <td>2023-08-07</td>\n",
       "      <td>Maai-Mahiu</td>\n",
       "      <td>Naivasha</td>\n",
       "      <td>Nakuru</td>\n",
       "      <td>Maai-Mahiu Naivasha Highway</td>\n",
       "      <td>vehicle and motorcycle collision</td>\n",
       "      <td>Passengers</td>\n",
       "      <td>1</td>\n",
       "      <td>5.50 pm</td>\n",
       "      <td>NaN</td>\n",
       "    </tr>\n",
       "    <tr>\n",
       "      <th>2</th>\n",
       "      <td>2023-07-25</td>\n",
       "      <td>Ntulele</td>\n",
       "      <td>Ntulele</td>\n",
       "      <td>Narok</td>\n",
       "      <td>Narok Mai Mahiu road</td>\n",
       "      <td>Head on Collision</td>\n",
       "      <td>Drivers/Occupants</td>\n",
       "      <td>4</td>\n",
       "      <td>NaN</td>\n",
       "      <td>NaN</td>\n",
       "    </tr>\n",
       "    <tr>\n",
       "      <th>3</th>\n",
       "      <td>2022-12-02</td>\n",
       "      <td>Suswa</td>\n",
       "      <td>Suswa</td>\n",
       "      <td>Narok</td>\n",
       "      <td>Narok Mai Mahiu road</td>\n",
       "      <td>Head on Collision</td>\n",
       "      <td>Driver and passengers</td>\n",
       "      <td>3</td>\n",
       "      <td>6.00 pm</td>\n",
       "      <td>NaN</td>\n",
       "    </tr>\n",
       "    <tr>\n",
       "      <th>4</th>\n",
       "      <td>2022-12-01</td>\n",
       "      <td>Mutira</td>\n",
       "      <td>Mutira</td>\n",
       "      <td>Kirinyaga</td>\n",
       "      <td>Kerugoya-Karatina Road</td>\n",
       "      <td>Run over</td>\n",
       "      <td>Pedestrian</td>\n",
       "      <td>1</td>\n",
       "      <td>NaN</td>\n",
       "      <td>NaN</td>\n",
       "    </tr>\n",
       "  </tbody>\n",
       "</table>\n",
       "</div>"
      ],
      "text/plain": [
       "        Date Accident Spot      Area     County                Road/ Highway  \\\n",
       "0 2023-08-08         Sobea     Sobea     Nakuru       Nakuru-Eldoret Highway   \n",
       "1 2023-08-07    Maai-Mahiu  Naivasha     Nakuru  Maai-Mahiu Naivasha Highway   \n",
       "2 2023-07-25       Ntulele   Ntulele      Narok         Narok Mai Mahiu road   \n",
       "3 2022-12-02         Suswa     Suswa      Narok         Narok Mai Mahiu road   \n",
       "4 2022-12-01        Mutira    Mutira  Kirinyaga       Kerugoya-Karatina Road   \n",
       "\n",
       "       Brief Accident Details/Cause                Victims  \\\n",
       "0                 Head on Collision             Passengers   \n",
       "1  vehicle and motorcycle collision             Passengers   \n",
       "2                 Head on Collision      Drivers/Occupants   \n",
       "3                 Head on Collision  Driver and passengers   \n",
       "4                          Run over             Pedestrian   \n",
       "\n",
       "  Total people confirmed dead Time of the Accidents Weather conditions  \n",
       "0                           4               4.30 pm                NaN  \n",
       "1                           1               5.50 pm                NaN  \n",
       "2                           4                   NaN                NaN  \n",
       "3                           3               6.00 pm                NaN  \n",
       "4                           1                   NaN                NaN  "
      ]
     },
     "execution_count": 25,
     "metadata": {},
     "output_type": "execute_result"
    }
   ],
   "source": [
    "traffic_df = traffic_data.parse('Sheet1')\n",
    "\n",
    "traffic_columns = list(traffic_df.columns)\n",
    "traffic_df.head()"
   ]
  },
  {
   "cell_type": "markdown",
   "metadata": {},
   "source": []
  }
 ],
 "metadata": {
  "kernelspec": {
   "display_name": "base",
   "language": "python",
   "name": "python3"
  },
  "language_info": {
   "codemirror_mode": {
    "name": "ipython",
    "version": 3
   },
   "file_extension": ".py",
   "mimetype": "text/x-python",
   "name": "python",
   "nbconvert_exporter": "python",
   "pygments_lexer": "ipython3",
   "version": "3.12.4"
  }
 },
 "nbformat": 4,
 "nbformat_minor": 2
}
