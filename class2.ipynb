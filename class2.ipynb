{
 "cells": [
  {
   "cell_type": "code",
   "execution_count": 6,
   "metadata": {},
   "outputs": [],
   "source": [
    "# Setup\n",
    "from mlwpy import *\n",
    "%matplotlib inline\n",
    "diabetes = datasets.load_diabetes()\n",
    "tts = skms.train_test_split(diabetes.data,\n",
    "diabetes.target,\n",
    "test_size=.25,\n",
    "random_state=42)\n",
    "(diabetes_train_ftrs, diabetes_test_ftrs,\n",
    "diabetes_train_tgt,\n",
    "diabetes_test_tgt) = tts"
   ]
  },
  {
   "cell_type": "code",
   "execution_count": 7,
   "metadata": {},
   "outputs": [],
   "source": [
    "ape_df = pd.DataFrame({'predicted' : [4, 2, 9],\n",
    "'actual'\n",
    ": [3, 5, 7]})\n",
    "ape_df['error'] = ape_df['predicted'] - ape_df['actual']\n",
    "ape_df['resid'] = ape_df['actual'] - ape_df['predicted']"
   ]
  },
  {
   "cell_type": "code",
   "execution_count": 8,
   "metadata": {},
   "outputs": [],
   "source": [
    "def regression_residuals(ax, predicted, actual, show_errors=None, right=False):\n",
    "\t''' figsize -> subplots;\n",
    "\tpredicted/actual data -> columns of a DataFrame\n",
    "\terrors -> \"all\" or sequence of indices '''\n",
    "\tdf = pd.DataFrame({'actual': actual, 'predicted': predicted})\n",
    "\tdf['error'] = df.actual - df.predicted\n",
    "\tax.plot(df.predicted, df.error, '.')\n",
    "\tax.plot(df.predicted, np.zeros_like(predicted), '-')\n",
    "\tif right:\n",
    "\t\tax.yaxis.tick_right()\n",
    "\t\tax.yaxis.set_label_position(\"right\")\n",
    "\tax.set_xlabel('Predicted Value')\n",
    "\tax.set_ylabel('Residual')\n",
    "\tif show_errors == 'all':\n",
    "\t\tshow_errors = range(len(df))\n",
    "\tif show_errors:\n",
    "\t\tpreds = df.predicted.iloc[show_errors]\n",
    "\t\terrors = df.error.iloc[show_errors]\n",
    "\t\tax.vlines(preds, 0, errors, 'r')\n",
    "\n",
    "fig, (ax1, ax2) = plt.subplots(1, 2, figsize=(8, 4))\n",
    "ax1.plot(ape_df.predicted, ape_df.actual, 'r.', [0, 10], [0, 10], 'b-')  # pred vs actual\n",
    "# perfect line\n",
    "ax1.set_xlabel('Predicted')\n",
    "ax1.set_ylabel('Actual')\n",
    "regression_residuals(ax2, ape_df.predicted, ape_df.actual, 'all', right=True)"
   ]
  },
  {
   "cell_type": "code",
   "execution_count": 9,
   "metadata": {},
   "outputs": [],
   "source": [
    "from sklearn import linear_model, neighbors\n",
    "\n",
    "lr = linear_model.LinearRegression()\n",
    "knn = neighbors.KNeighborsRegressor()\n",
    "models = [lr, knn]\n",
    "fig, axes = plt.subplots(1, 2, figsize=(10, 5), sharex=True, sharey=True)\n",
    "fig.tight_layout()\n",
    "for model, ax, on_right in zip(models, axes, [False, True]):\n",
    "\tpreds = (model.fit(diabetes_train_ftrs, diabetes_train_tgt)\n",
    "\t\t\t .predict(diabetes_test_ftrs))\n",
    "\tregression_residuals(ax, preds, diabetes_test_tgt, [-20], on_right)\n",
    "axes[0].set_title('Linear Regression Residuals')\n",
    "axes[1].set_title('k-NN-Regressor Residuals');"
   ]
  },
  {
   "cell_type": "code",
   "execution_count": 10,
   "metadata": {},
   "outputs": [
    {
     "name": "stdout",
     "output_type": "stream",
     "text": [
      "280.0\n"
     ]
    }
   ],
   "source": [
    "print(diabetes_test_tgt[-20])"
   ]
  }
 ],
 "metadata": {
  "kernelspec": {
   "display_name": "base",
   "language": "python",
   "name": "python3"
  },
  "language_info": {
   "codemirror_mode": {
    "name": "ipython",
    "version": 3
   },
   "file_extension": ".py",
   "mimetype": "text/x-python",
   "name": "python",
   "nbconvert_exporter": "python",
   "pygments_lexer": "ipython3",
   "version": "3.12.7"
  }
 },
 "nbformat": 4,
 "nbformat_minor": 2
}
